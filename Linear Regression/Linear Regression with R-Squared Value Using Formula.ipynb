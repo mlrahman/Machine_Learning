{
 "cells": [
  {
   "cell_type": "code",
   "execution_count": 8,
   "metadata": {},
   "outputs": [
    {
     "name": "stdout",
     "output_type": "stream",
     "text": [
      "Linear Regression using numerical analysis formula:\n",
      "Training phase start: \n",
      "Enter number of elements: 5\n",
      "Enter independent varaible values: \n",
      "1 element value: 6\n",
      "2 element value: 8\n",
      "3 element value: 12\n",
      "4 element value: 14\n",
      "5 element value: 18\n",
      "\n",
      "Enter dependent varaible values: \n",
      "1 element value: 350\n",
      "2 element value: 775\n",
      "3 element value: 1150\n",
      "4 element value: 1395\n",
      "5 element value: 1675\n",
      "\n",
      "So input the dataset is\n",
      "x =  6 , y =  350\n",
      "x =  8 , y =  775\n",
      "x =  12 , y =  1150\n",
      "x =  14 , y =  1395\n",
      "x =  18 , y =  1675\n"
     ]
    },
    {
     "data": {
      "image/png": "[encoded data removed]",
      "text/plain": [
       "<Figure size 432x288 with 1 Axes>"
      ]
     },
     "metadata": {
      "needs_background": "light"
     },
     "output_type": "display_data"
    }
   ],
   "source": [
    "from __future__ import print_function\n",
    "import matplotlib.pyplot as plt\n",
    "\n",
    "print(\"Linear Regression using numerical analysis formula:\")\n",
    "\n",
    "print(\"Training phase start: \")\n",
    "n=int(input(\"Enter number of elements: \"))\n",
    "\n",
    "\"\"\"\n",
    "for i in range(0,n,1):\n",
    "    print(str(i)+\" \")\n",
    "\"\"\"\n",
    "print(\"Enter independent varaible values: \")\n",
    "x=[]\n",
    "for i in range(0,n,1):\n",
    "    v=input(str(i+1)+\" element value: \")\n",
    "    x.append(int(v))\n",
    "\n",
    "print(\"\\nEnter dependent varaible values: \")\n",
    "y=[]\n",
    "for i in range(0,n,1):\n",
    "    v=input(str(i+1)+\" element value: \")\n",
    "    y.append(int(v))\n",
    "    \n",
    "print(\"\\nSo input the dataset is\")\n",
    "for i in range(n):\n",
    "    print(\"x = \",x[i],\", y = \",y[i])\n",
    "\n",
    "plt.scatter(x,y)\n",
    "plt.show();"
   ]
  },
  {
   "cell_type": "code",
   "execution_count": 10,
   "metadata": {},
   "outputs": [
    {
     "name": "stdout",
     "output_type": "stream",
     "text": [
      "x_bar:  11.6 , y_bar:  1069.0 , xy_bar:  14356.0 , x_sq_bar:  152.8 , x_bar_sq:  134.56\n",
      "m:  107.21 , c:  -174.69\n"
     ]
    },
    {
     "data": {
      "image/png": "[encoded data removed]",
      "text/plain": [
       "<Figure size 432x288 with 1 Axes>"
      ]
     },
     "metadata": {
      "needs_background": "light"
     },
     "output_type": "display_data"
    }
   ],
   "source": [
    "\"\"\"\n",
    "Formula for find out m and c\n",
    "m = ((x_bar*y_bar)-xy_bar)/(x_bar**2 - x_sq_bar)\n",
    "c = y_bar - (m*x_bar)\n",
    "\"\"\"    \n",
    "\n",
    "x_bar=0\n",
    "y_bar=0\n",
    "xy_bar=0\n",
    "x_sq_bar=0\n",
    "for i in range(0,n,1):\n",
    "    x_bar=x_bar+x[i]\n",
    "    y_bar=y_bar+y[i]\n",
    "    xy_bar=xy_bar+(x[i]*y[i])\n",
    "    x_sq_bar=x_sq_bar+(x[i]**2)\n",
    "    \n",
    "x_bar=x_bar/n\n",
    "y_bar=y_bar/n\n",
    "xy_bar=xy_bar/n\n",
    "x_sq_bar=x_sq_bar/n\n",
    "\n",
    "print(\"x_bar: \",x_bar,\", y_bar: \",y_bar,\", xy_bar: \",xy_bar,\", x_sq_bar: \",x_sq_bar,\", x_bar_sq: \",x_bar**2)\n",
    "\n",
    "m = ((x_bar*y_bar)-xy_bar)/(x_bar**2 - x_sq_bar);\n",
    "c = y_bar - (m*x_bar)\n",
    "print(\"m: \",round(m,2),\", c: \",round(c,2))\n",
    "\n",
    "\n",
    "def predict(x):\n",
    "  return m * x + c\n",
    "\n",
    "predicted_y = list(map(predict, x))\n",
    "\n",
    "plt.scatter(x,y)\n",
    "plt.plot(x,predicted_y)\n",
    "plt.show();"
   ]
  },
  {
   "cell_type": "code",
   "execution_count": 13,
   "metadata": {},
   "outputs": [
    {
     "name": "stdout",
     "output_type": "stream",
     "text": [
      "R-Squared value:  0.97  (Higher value indicate high accuracy)\n"
     ]
    }
   ],
   "source": [
    "\"\"\"\n",
    "R-Squared value\n",
    "r_sq=(sum of ((y_i_predict-y_bar)**2) for i=1 to n) / (sum of ((y_i-y_bar)**2) for i=1 to n)\n",
    "\"\"\"\n",
    "y_predict=0\n",
    "y_actual=0\n",
    "for i in range(0,n,1):\n",
    "    y_predict=y_predict+((((m*x[i])+c)-y_bar)**2)\n",
    "    y_actual=y_actual+((y[i]-y_bar)**2)\n",
    "r_sq=y_predict/y_actual\n",
    "print(\"R-Squared value: \",round(r_sq,2),\" (Higher value indicate high accuracy)\")"
   ]
  },
  {
   "cell_type": "code",
   "execution_count": 12,
   "metadata": {},
   "outputs": [
    {
     "name": "stdout",
     "output_type": "stream",
     "text": [
      "Testing phase start: (enter @ for exit)\n",
      "Enter x value for test: 16\n",
      "For  16  predicted output:  1540.7456140350876\n",
      "Enter x value for test: @\n"
     ]
    }
   ],
   "source": [
    "print(\"Testing phase start: (enter @ for exit)\")\n",
    "\n",
    "while True:\n",
    "    test_x=input(\"Enter x value for test: \")\n",
    "    if test_x=='@':\n",
    "        break;\n",
    "    test_x=int(test_x)\n",
    "    print(\"For \",test_x,\" predicted output: \",((m*test_x)+c))   \n",
    "    "
   ]
  }
 ],
 "metadata": {
  "kernelspec": {
   "display_name": "Python 3",
   "language": "python",
   "name": "python3"
  },
  "language_info": {
   "codemirror_mode": {
    "name": "ipython",
    "version": 3
   },
   "file_extension": ".py",
   "mimetype": "text/x-python",
   "name": "python",
   "nbconvert_exporter": "python",
   "pygments_lexer": "ipython3",
   "version": "3.7.4"
  }
 },
 "nbformat": 4,
 "nbformat_minor": 2
}
